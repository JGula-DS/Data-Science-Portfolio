{
 "cells": [
  {
   "cell_type": "markdown",
   "id": "6b0325fc-c135-43db-9b96-57559e43a923",
   "metadata": {},
   "source": [
    "# Heart Disease Dataset\n",
    "\n",
    "## General information\n",
    "\n",
    "This dataset contains medical data used for predicting heart disease. The data includes various attributes such as age, sex, chest pain type (cp), resting blood pressure (trestbps), cholesterol (chol), fasting blood sugar (fbs), resting electrocardiographic results (restecg), maximum heart rate achieved (thalach), exercise-induced angina (exang), and ST depression induced by exercise relative to rest (oldpeak).\n",
    "\n",
    "### Columns\n",
    "\n",
    "age: Age of the patient (in years)  \n",
    "sex: Sex of the patient (1 = male, 0 = female)  \n",
    "cp: Chest pain type (1-4)  \n",
    "trestbps: Resting blood pressure (in mm Hg on admission to the hospital)  \n",
    "chol: Serum cholesterol in mg/dl  \n",
    "fbs: Fasting blood sugar > 120 mg/dl (1 = true; 0 = false)  \n",
    "restecg: Resting electrocardiographic results (0-2)  \n",
    "thalach: Maximum heart rate achieved  \n",
    "exang: Exercise-induced angina (1 = yes; 0 = no)  \n",
    "oldpeak: ST depression induced by exercise relative to rest  \n",
    "slope: The slope of the peak exercise ST segment (0 = upsloping, 1 = flat, 2 = downsloping)  \n",
    "ca: Number of major vessels colored by fluoroscopy (0-4)  \n",
    "thal: Thalassemia (0 = null/unknown, 1 = fixed defect, 2 = normal, 3 = reversible defect)  \n",
    "target: Diagnosis of heart disease (1 = yes, 0 = no)  "
   ]
  },
  {
   "cell_type": "code",
   "execution_count": 3,
   "id": "05ad66a0-b23f-4a9a-91b0-3d47faa275f5",
   "metadata": {},
   "outputs": [],
   "source": [
    "import pandas as pd\n",
    "import numpy as np\n",
    "import matplotlib.pyplot as plt\n",
    "import seaborn as sns"
   ]
  },
  {
   "cell_type": "markdown",
   "id": "28ff4f4e-da58-4fc5-b303-bed7315f937c",
   "metadata": {},
   "source": [
    "## **EDA**\n",
    "\n",
    "### First impression"
   ]
  },
  {
   "cell_type": "code",
   "execution_count": 5,
   "id": "31e160b5-8089-480b-8196-8197c940cc44",
   "metadata": {},
   "outputs": [],
   "source": [
    "#read data\n",
    "df = pd.read_csv('heart-disease.csv')"
   ]
  },
  {
   "cell_type": "code",
   "execution_count": 6,
   "id": "d72ee6d0-29a7-4f0c-90d8-32f2e1423f2d",
   "metadata": {},
   "outputs": [
    {
     "data": {
      "text/html": [
       "<div>\n",
       "<style scoped>\n",
       "    .dataframe tbody tr th:only-of-type {\n",
       "        vertical-align: middle;\n",
       "    }\n",
       "\n",
       "    .dataframe tbody tr th {\n",
       "        vertical-align: top;\n",
       "    }\n",
       "\n",
       "    .dataframe thead th {\n",
       "        text-align: right;\n",
       "    }\n",
       "</style>\n",
       "<table border=\"1\" class=\"dataframe\">\n",
       "  <thead>\n",
       "    <tr style=\"text-align: right;\">\n",
       "      <th></th>\n",
       "      <th>age</th>\n",
       "      <th>sex</th>\n",
       "      <th>cp</th>\n",
       "      <th>trestbps</th>\n",
       "      <th>chol</th>\n",
       "      <th>fbs</th>\n",
       "      <th>restecg</th>\n",
       "      <th>thalach</th>\n",
       "      <th>exang</th>\n",
       "      <th>oldpeak</th>\n",
       "      <th>slope</th>\n",
       "      <th>ca</th>\n",
       "      <th>thal</th>\n",
       "      <th>target</th>\n",
       "    </tr>\n",
       "  </thead>\n",
       "  <tbody>\n",
       "    <tr>\n",
       "      <th>0</th>\n",
       "      <td>63</td>\n",
       "      <td>1</td>\n",
       "      <td>3</td>\n",
       "      <td>145</td>\n",
       "      <td>233</td>\n",
       "      <td>1</td>\n",
       "      <td>0</td>\n",
       "      <td>150</td>\n",
       "      <td>0</td>\n",
       "      <td>2.3</td>\n",
       "      <td>0</td>\n",
       "      <td>0</td>\n",
       "      <td>1</td>\n",
       "      <td>1</td>\n",
       "    </tr>\n",
       "    <tr>\n",
       "      <th>1</th>\n",
       "      <td>37</td>\n",
       "      <td>1</td>\n",
       "      <td>2</td>\n",
       "      <td>130</td>\n",
       "      <td>250</td>\n",
       "      <td>0</td>\n",
       "      <td>1</td>\n",
       "      <td>187</td>\n",
       "      <td>0</td>\n",
       "      <td>3.5</td>\n",
       "      <td>0</td>\n",
       "      <td>0</td>\n",
       "      <td>2</td>\n",
       "      <td>1</td>\n",
       "    </tr>\n",
       "    <tr>\n",
       "      <th>2</th>\n",
       "      <td>41</td>\n",
       "      <td>0</td>\n",
       "      <td>1</td>\n",
       "      <td>130</td>\n",
       "      <td>204</td>\n",
       "      <td>0</td>\n",
       "      <td>0</td>\n",
       "      <td>172</td>\n",
       "      <td>0</td>\n",
       "      <td>1.4</td>\n",
       "      <td>2</td>\n",
       "      <td>0</td>\n",
       "      <td>2</td>\n",
       "      <td>1</td>\n",
       "    </tr>\n",
       "    <tr>\n",
       "      <th>3</th>\n",
       "      <td>56</td>\n",
       "      <td>1</td>\n",
       "      <td>1</td>\n",
       "      <td>120</td>\n",
       "      <td>236</td>\n",
       "      <td>0</td>\n",
       "      <td>1</td>\n",
       "      <td>178</td>\n",
       "      <td>0</td>\n",
       "      <td>0.8</td>\n",
       "      <td>2</td>\n",
       "      <td>0</td>\n",
       "      <td>2</td>\n",
       "      <td>1</td>\n",
       "    </tr>\n",
       "    <tr>\n",
       "      <th>4</th>\n",
       "      <td>57</td>\n",
       "      <td>0</td>\n",
       "      <td>0</td>\n",
       "      <td>120</td>\n",
       "      <td>354</td>\n",
       "      <td>0</td>\n",
       "      <td>1</td>\n",
       "      <td>163</td>\n",
       "      <td>1</td>\n",
       "      <td>0.6</td>\n",
       "      <td>2</td>\n",
       "      <td>0</td>\n",
       "      <td>2</td>\n",
       "      <td>1</td>\n",
       "    </tr>\n",
       "  </tbody>\n",
       "</table>\n",
       "</div>"
      ],
      "text/plain": [
       "   age  sex  cp  trestbps  chol  fbs  restecg  thalach  exang  oldpeak  slope  \\\n",
       "0   63    1   3       145   233    1        0      150      0      2.3      0   \n",
       "1   37    1   2       130   250    0        1      187      0      3.5      0   \n",
       "2   41    0   1       130   204    0        0      172      0      1.4      2   \n",
       "3   56    1   1       120   236    0        1      178      0      0.8      2   \n",
       "4   57    0   0       120   354    0        1      163      1      0.6      2   \n",
       "\n",
       "   ca  thal  target  \n",
       "0   0     1       1  \n",
       "1   0     2       1  \n",
       "2   0     2       1  \n",
       "3   0     2       1  \n",
       "4   0     2       1  "
      ]
     },
     "execution_count": 6,
     "metadata": {},
     "output_type": "execute_result"
    }
   ],
   "source": [
    "df.head()"
   ]
  },
  {
   "cell_type": "code",
   "execution_count": 7,
   "id": "827767b2-8329-4153-b4b3-9727a67201a3",
   "metadata": {},
   "outputs": [
    {
     "data": {
      "text/plain": [
       "(303, 14)"
      ]
     },
     "execution_count": 7,
     "metadata": {},
     "output_type": "execute_result"
    }
   ],
   "source": [
    "df.shape"
   ]
  },
  {
   "cell_type": "code",
   "execution_count": 8,
   "id": "25adcf9a-e3b9-4234-9e0c-8738a2b84673",
   "metadata": {},
   "outputs": [
    {
     "name": "stdout",
     "output_type": "stream",
     "text": [
      "<class 'pandas.core.frame.DataFrame'>\n",
      "RangeIndex: 303 entries, 0 to 302\n",
      "Data columns (total 14 columns):\n",
      " #   Column    Non-Null Count  Dtype  \n",
      "---  ------    --------------  -----  \n",
      " 0   age       303 non-null    int64  \n",
      " 1   sex       303 non-null    int64  \n",
      " 2   cp        303 non-null    int64  \n",
      " 3   trestbps  303 non-null    int64  \n",
      " 4   chol      303 non-null    int64  \n",
      " 5   fbs       303 non-null    int64  \n",
      " 6   restecg   303 non-null    int64  \n",
      " 7   thalach   303 non-null    int64  \n",
      " 8   exang     303 non-null    int64  \n",
      " 9   oldpeak   303 non-null    float64\n",
      " 10  slope     303 non-null    int64  \n",
      " 11  ca        303 non-null    int64  \n",
      " 12  thal      303 non-null    int64  \n",
      " 13  target    303 non-null    int64  \n",
      "dtypes: float64(1), int64(13)\n",
      "memory usage: 33.3 KB\n"
     ]
    }
   ],
   "source": [
    "df.info()"
   ]
  },
  {
   "cell_type": "markdown",
   "id": "b9a8fd63-f691-48af-b8be-0a731398e8d7",
   "metadata": {},
   "source": [
    "### Data cleaning"
   ]
  },
  {
   "cell_type": "code",
   "execution_count": 10,
   "id": "2ed80cab-34fa-4899-a034-58185f957023",
   "metadata": {},
   "outputs": [
    {
     "data": {
      "text/plain": [
       "age         0\n",
       "sex         0\n",
       "cp          0\n",
       "trestbps    0\n",
       "chol        0\n",
       "fbs         0\n",
       "restecg     0\n",
       "thalach     0\n",
       "exang       0\n",
       "oldpeak     0\n",
       "slope       0\n",
       "ca          0\n",
       "thal        0\n",
       "target      0\n",
       "dtype: int64"
      ]
     },
     "execution_count": 10,
     "metadata": {},
     "output_type": "execute_result"
    }
   ],
   "source": [
    "df.isna().sum()"
   ]
  },
  {
   "cell_type": "code",
   "execution_count": 11,
   "id": "1e1d3531-fae0-4463-9a42-6864f815ed47",
   "metadata": {},
   "outputs": [
    {
     "data": {
      "text/plain": [
       "1"
      ]
     },
     "execution_count": 11,
     "metadata": {},
     "output_type": "execute_result"
    }
   ],
   "source": [
    "df.duplicated().sum()"
   ]
  },
  {
   "cell_type": "code",
   "execution_count": 12,
   "id": "55c49603-0e61-4f73-9579-744d97061832",
   "metadata": {},
   "outputs": [
    {
     "data": {
      "text/html": [
       "<div>\n",
       "<style scoped>\n",
       "    .dataframe tbody tr th:only-of-type {\n",
       "        vertical-align: middle;\n",
       "    }\n",
       "\n",
       "    .dataframe tbody tr th {\n",
       "        vertical-align: top;\n",
       "    }\n",
       "\n",
       "    .dataframe thead th {\n",
       "        text-align: right;\n",
       "    }\n",
       "</style>\n",
       "<table border=\"1\" class=\"dataframe\">\n",
       "  <thead>\n",
       "    <tr style=\"text-align: right;\">\n",
       "      <th></th>\n",
       "      <th>age</th>\n",
       "      <th>sex</th>\n",
       "      <th>cp</th>\n",
       "      <th>trestbps</th>\n",
       "      <th>chol</th>\n",
       "      <th>fbs</th>\n",
       "      <th>restecg</th>\n",
       "      <th>thalach</th>\n",
       "      <th>exang</th>\n",
       "      <th>oldpeak</th>\n",
       "      <th>slope</th>\n",
       "      <th>ca</th>\n",
       "      <th>thal</th>\n",
       "      <th>target</th>\n",
       "    </tr>\n",
       "  </thead>\n",
       "  <tbody>\n",
       "    <tr>\n",
       "      <th>163</th>\n",
       "      <td>38</td>\n",
       "      <td>1</td>\n",
       "      <td>2</td>\n",
       "      <td>138</td>\n",
       "      <td>175</td>\n",
       "      <td>0</td>\n",
       "      <td>1</td>\n",
       "      <td>173</td>\n",
       "      <td>0</td>\n",
       "      <td>0.0</td>\n",
       "      <td>2</td>\n",
       "      <td>4</td>\n",
       "      <td>2</td>\n",
       "      <td>1</td>\n",
       "    </tr>\n",
       "    <tr>\n",
       "      <th>164</th>\n",
       "      <td>38</td>\n",
       "      <td>1</td>\n",
       "      <td>2</td>\n",
       "      <td>138</td>\n",
       "      <td>175</td>\n",
       "      <td>0</td>\n",
       "      <td>1</td>\n",
       "      <td>173</td>\n",
       "      <td>0</td>\n",
       "      <td>0.0</td>\n",
       "      <td>2</td>\n",
       "      <td>4</td>\n",
       "      <td>2</td>\n",
       "      <td>1</td>\n",
       "    </tr>\n",
       "  </tbody>\n",
       "</table>\n",
       "</div>"
      ],
      "text/plain": [
       "     age  sex  cp  trestbps  chol  fbs  restecg  thalach  exang  oldpeak  \\\n",
       "163   38    1   2       138   175    0        1      173      0      0.0   \n",
       "164   38    1   2       138   175    0        1      173      0      0.0   \n",
       "\n",
       "     slope  ca  thal  target  \n",
       "163      2   4     2       1  \n",
       "164      2   4     2       1  "
      ]
     },
     "execution_count": 12,
     "metadata": {},
     "output_type": "execute_result"
    }
   ],
   "source": [
    "duplicates = df[df.duplicated(keep=False)]\n",
    "duplicates"
   ]
  },
  {
   "cell_type": "code",
   "execution_count": 13,
   "id": "329d291d-1b79-4cbe-8735-c5ec81ea6e52",
   "metadata": {},
   "outputs": [],
   "source": [
    "df.drop_duplicates(inplace=True)"
   ]
  },
  {
   "cell_type": "markdown",
   "id": "3f867276-2b07-40a1-a35d-c5929fa715cf",
   "metadata": {},
   "source": [
    "### Univariate analysis"
   ]
  },
  {
   "cell_type": "code",
   "execution_count": 15,
   "id": "9a4ef25f-2bbd-4f71-bf1c-ae09828f5b4f",
   "metadata": {},
   "outputs": [],
   "source": [
    "#seperate numerical and categorical columns\n",
    "cats = [i for i in df.columns if df[i].nunique() <=5]\n",
    "nums = [i for i in df.columns if i not in cats]"
   ]
  },
  {
   "cell_type": "code",
   "execution_count": 16,
   "id": "62710b3f-4094-439a-840f-14374468f9e3",
   "metadata": {},
   "outputs": [
    {
     "data": {
      "text/html": [
       "<div>\n",
       "<style scoped>\n",
       "    .dataframe tbody tr th:only-of-type {\n",
       "        vertical-align: middle;\n",
       "    }\n",
       "\n",
       "    .dataframe tbody tr th {\n",
       "        vertical-align: top;\n",
       "    }\n",
       "\n",
       "    .dataframe thead th {\n",
       "        text-align: right;\n",
       "    }\n",
       "</style>\n",
       "<table border=\"1\" class=\"dataframe\">\n",
       "  <thead>\n",
       "    <tr style=\"text-align: right;\">\n",
       "      <th></th>\n",
       "      <th>age</th>\n",
       "      <th>trestbps</th>\n",
       "      <th>chol</th>\n",
       "      <th>thalach</th>\n",
       "      <th>oldpeak</th>\n",
       "    </tr>\n",
       "  </thead>\n",
       "  <tbody>\n",
       "    <tr>\n",
       "      <th>count</th>\n",
       "      <td>302.00000</td>\n",
       "      <td>302.000000</td>\n",
       "      <td>302.000000</td>\n",
       "      <td>302.000000</td>\n",
       "      <td>302.000000</td>\n",
       "    </tr>\n",
       "    <tr>\n",
       "      <th>mean</th>\n",
       "      <td>54.42053</td>\n",
       "      <td>131.602649</td>\n",
       "      <td>246.500000</td>\n",
       "      <td>149.569536</td>\n",
       "      <td>1.043046</td>\n",
       "    </tr>\n",
       "    <tr>\n",
       "      <th>std</th>\n",
       "      <td>9.04797</td>\n",
       "      <td>17.563394</td>\n",
       "      <td>51.753489</td>\n",
       "      <td>22.903527</td>\n",
       "      <td>1.161452</td>\n",
       "    </tr>\n",
       "    <tr>\n",
       "      <th>min</th>\n",
       "      <td>29.00000</td>\n",
       "      <td>94.000000</td>\n",
       "      <td>126.000000</td>\n",
       "      <td>71.000000</td>\n",
       "      <td>0.000000</td>\n",
       "    </tr>\n",
       "    <tr>\n",
       "      <th>25%</th>\n",
       "      <td>48.00000</td>\n",
       "      <td>120.000000</td>\n",
       "      <td>211.000000</td>\n",
       "      <td>133.250000</td>\n",
       "      <td>0.000000</td>\n",
       "    </tr>\n",
       "    <tr>\n",
       "      <th>50%</th>\n",
       "      <td>55.50000</td>\n",
       "      <td>130.000000</td>\n",
       "      <td>240.500000</td>\n",
       "      <td>152.500000</td>\n",
       "      <td>0.800000</td>\n",
       "    </tr>\n",
       "    <tr>\n",
       "      <th>75%</th>\n",
       "      <td>61.00000</td>\n",
       "      <td>140.000000</td>\n",
       "      <td>274.750000</td>\n",
       "      <td>166.000000</td>\n",
       "      <td>1.600000</td>\n",
       "    </tr>\n",
       "    <tr>\n",
       "      <th>max</th>\n",
       "      <td>77.00000</td>\n",
       "      <td>200.000000</td>\n",
       "      <td>564.000000</td>\n",
       "      <td>202.000000</td>\n",
       "      <td>6.200000</td>\n",
       "    </tr>\n",
       "  </tbody>\n",
       "</table>\n",
       "</div>"
      ],
      "text/plain": [
       "             age    trestbps        chol     thalach     oldpeak\n",
       "count  302.00000  302.000000  302.000000  302.000000  302.000000\n",
       "mean    54.42053  131.602649  246.500000  149.569536    1.043046\n",
       "std      9.04797   17.563394   51.753489   22.903527    1.161452\n",
       "min     29.00000   94.000000  126.000000   71.000000    0.000000\n",
       "25%     48.00000  120.000000  211.000000  133.250000    0.000000\n",
       "50%     55.50000  130.000000  240.500000  152.500000    0.800000\n",
       "75%     61.00000  140.000000  274.750000  166.000000    1.600000\n",
       "max     77.00000  200.000000  564.000000  202.000000    6.200000"
      ]
     },
     "execution_count": 16,
     "metadata": {},
     "output_type": "execute_result"
    }
   ],
   "source": [
    "df[nums].describe()"
   ]
  },
  {
   "cell_type": "code",
   "execution_count": 17,
   "id": "24613ab4-8b8e-4d9b-8ad3-40bab36a7846",
   "metadata": {},
   "outputs": [
    {
     "name": "stderr",
     "output_type": "stream",
     "text": [
      "\n",
      "KeyboardInterrupt\n",
      "\n"
     ]
    },
    {
     "data": {
      "image/png": "[encoded data removed]",
      "text/plain": [
       "<Figure size 1500x600 with 5 Axes>"
      ]
     },
     "metadata": {},
     "output_type": "display_data"
    }
   ],
   "source": [
    "fig, axes = plt.subplots(ncols=5, figsize=(15, 6))\n",
    "\n",
    "for idx, col in enumerate(nums):\n",
    "    sns.histplot(df, x = col, ax=axes[idx], kde=True)\n",
    "    axes[idx].set_ylabel('')\n",
    "    axes[idx].set_xlabel('')\n",
    "    axes[idx].set_title(col)"
   ]
  },
  {
   "cell_type": "markdown",
   "id": "6656ba58-dd3b-4924-89f7-c59ad491d032",
   "metadata": {},
   "source": [
    "The values observed for trestbps, chol, thalach, and oldpeak are all within realistic and clinically relevant ranges:  \n",
    "\n",
    "**trestbps (Resting Blood Pressure)**: The values range from 94 to 200 mm Hg, which is realistic. Lower values could indicate hypotension, while higher values suggest hypertension, both of which are medically significant.  \n",
    "\n",
    "**chol (Serum Cholesterol)**: Values range from 126 to 564 mg/dl. This range is plausible, with lower values indicating very healthy levels or specific medical conditions, and higher values pointing to severe hypercholesterolemia, which can be a serious risk factor for heart disease.  \n",
    "\n",
    "**thalach (Maximum Heart Rate Achieved)**: The range of 71 to 202 bpm is realistic. The lower end might indicate limited physical fitness or other medical factors, while the higher end suggests a robust cardiovascular response, typical in younger or highly fit individuals.  \n",
    "\n",
    "**oldpeak (ST Depression Induced by Exercise)**: Values from 0 to 6.2 are also realistic. A value of 0 is normal, while a high value like 6.2 indicates significant ST-segment depression, which is a critical indicator of potential ischemia.  \n",
    "\n",
    "In summary, these values are realistic and indicative of varying health conditions, with extreme values highlighting potential risks or underlying health issues."
   ]
  },
  {
   "cell_type": "code",
   "execution_count": null,
   "id": "f7165eed-1c79-4e00-b712-3ec4089297a7",
   "metadata": {},
   "outputs": [],
   "source": [
    "fig, axes = plt.subplots(ncols=3, nrows=3, figsize=(15,15))\n",
    "\n",
    "for idx, col in enumerate(cats):\n",
    "    row = idx // 3\n",
    "    col_plot = idx % 3\n",
    "    count = pd.crosstab(index=df[col], columns='count')\n",
    "    count.plot(kind='bar', title=str(col), ax=axes[row, col_plot], legend=False,)\n",
    "    axes[row, col_plot].set_xlabel('')\n",
    "plt.tight_layout()"
   ]
  },
  {
   "cell_type": "markdown",
   "id": "d62e34fe-18a4-4da4-a76b-b2707b316971",
   "metadata": {},
   "source": [
    "The distribution of the target variable is relatively balanced. This should not lead to distortions. \n",
    "Gender and Exercise-Induced Angina are both very unbalanced, which could later influence the model"
   ]
  },
  {
   "cell_type": "markdown",
   "id": "49d3c5f4-25da-46ad-abcc-a4a058235cd7",
   "metadata": {},
   "source": [
    "### Bivariate analysis"
   ]
  },
  {
   "cell_type": "code",
   "execution_count": null,
   "id": "7a67d1d8-0f65-40af-9a99-084eeb78a038",
   "metadata": {},
   "outputs": [],
   "source": [
    "sns.pairplot(df, vars=nums, hue=cats[-1])"
   ]
  },
  {
   "cell_type": "code",
   "execution_count": null,
   "id": "40b597bd-7bf5-47d5-ba93-10460b0d9ac8",
   "metadata": {},
   "outputs": [],
   "source": [
    "fig, axes = plt.subplots(ncols=5, figsize=(15,6))\n",
    "for idx, col in enumerate(nums):\n",
    "    grouped_by_target = df.groupby(cats[-1])[col].mean()\n",
    "    bars = grouped_by_target.plot(kind='bar', ax=axes[idx])\n",
    "    axes[idx].set_title(col)\n",
    "    axes[idx].set_xlabel('Target')\n",
    "    axes[idx].set_ylabel(f'Mean {col}')\n",
    "\n",
    "    for bar in bars.patches:\n",
    "        height = bar.get_height()\n",
    "        axes[idx].text(\n",
    "            bar.get_x() + bar.get_width() / 2,\n",
    "            height + 0.02,  \n",
    "            f'{height:.2f}',\n",
    "            ha='center',\n",
    "            va='bottom'\n",
    "        )\n",
    "plt.tight_layout()"
   ]
  },
  {
   "cell_type": "markdown",
   "id": "d95b3014-f4b3-4fd0-98e6-87219f1c9f91",
   "metadata": {},
   "source": [
    "Using numeric values like 0, 1, 2, etc., to represent different categories in data can mistakenly suggest linear relationships that aren't actually there. To avoid this, it's important to first replace these numeric codes with their specific categorical meanings, and then apply one-hot encoding to transform the data."
   ]
  },
  {
   "cell_type": "code",
   "execution_count": null,
   "id": "9ede45bb-25a4-424f-8cc8-f367929ea071",
   "metadata": {},
   "outputs": [],
   "source": [
    "df.replace({'cp':{0:'typical angina',1:'atypical angina',2:'non-anginal pain',3:'asymptomatic'},\n",
    "            'restecg':{0:'normal',1:'having ST-T wave abnormality',2:'left ventricular hypertrophy'},\n",
    "            'slope':{0:'upsloping',1:'flat',2:'downsloping'},\n",
    "            'thal':{0:'unknown',1:'fixed defect',2:'normal',3:'reversable defect'},\n",
    "             },inplace=True)\n",
    "df_onehot = pd.get_dummies(data=df, \n",
    "                           columns=['cp', 'restecg', 'slope', 'thal'], \n",
    "                           dtype='int64')"
   ]
  },
  {
   "cell_type": "code",
   "execution_count": null,
   "id": "9eacbb52-3f27-4c22-8b2a-f00fa577be9e",
   "metadata": {},
   "outputs": [],
   "source": [
    "#Correlation\n",
    "fig, ax=plt.subplots(nrows=2, figsize=(12,12))\n",
    "sns.heatmap(df_onehot.corr(), ax=ax[0])\n",
    "ax[0].set_title('Relationship between features')\n",
    "sns.heatmap(df_onehot.corr()['target'].drop('target',axis=0).to_frame(),ax=ax[1], annot=True)\n",
    "ax[1].set_title('Feature-Target Relationship')\n",
    "plt.tight_layout()"
   ]
  },
  {
   "cell_type": "markdown",
   "id": "b52ff135-4a57-456b-891d-e8f4c1df81ad",
   "metadata": {},
   "source": [
    "## Modeling"
   ]
  },
  {
   "cell_type": "markdown",
   "id": "80cfdd35-b35e-4280-a3eb-ec8ec5aee2bb",
   "metadata": {},
   "source": [
    "### Preparation"
   ]
  },
  {
   "cell_type": "code",
   "execution_count": null,
   "id": "2f67f848-56e1-47f1-8f53-d9af0aa771d9",
   "metadata": {},
   "outputs": [],
   "source": [
    "from sklearn.preprocessing import StandardScaler\n",
    "from sklearn.compose import ColumnTransformer\n",
    "from sklearn.pipeline import Pipeline\n",
    "from sklearn.model_selection import train_test_split"
   ]
  },
  {
   "cell_type": "code",
   "execution_count": null,
   "id": "6cbe9b3b-1076-4301-ab36-1646135a62fb",
   "metadata": {},
   "outputs": [],
   "source": [
    "#Split dataset into 'features' and 'target'\n",
    "\n",
    "features = df_onehot.drop('target', axis=1)\n",
    "target = df_onehot['target']\n",
    "\n",
    "#Train_test_split\n",
    "\n",
    "features_train, features_test, target_train, target_test = train_test_split(features,\n",
    "                                                                            target,\n",
    "                                                                            test_size=0.2,\n",
    "                                                                            random_state=42)\n"
   ]
  },
  {
   "cell_type": "markdown",
   "id": "b9b444ba-0943-4e3b-8dcc-0c70f48ea947",
   "metadata": {},
   "source": [
    "### Dimensionality reduction"
   ]
  },
  {
   "cell_type": "markdown",
   "id": "67c702f3-ce12-428f-8d04-3715ab07c9e6",
   "metadata": {},
   "source": [
    "By using the One Hot Encoder there are now a lot of features. A dimension reduction could therefore make sense. That's why we compare PCA and FA. "
   ]
  },
  {
   "cell_type": "code",
   "execution_count": null,
   "id": "2bc3a058-07f1-4131-bfce-29f198dc099c",
   "metadata": {},
   "outputs": [],
   "source": [
    "from sklearn.decomposition import PCA, FactorAnalysis"
   ]
  },
  {
   "cell_type": "code",
   "execution_count": null,
   "id": "4b7f84af-a70e-4626-8ce1-83f91d7b28bb",
   "metadata": {},
   "outputs": [],
   "source": [
    "# PCA \n",
    "explained_variance = []\n",
    "components = range(1, 23)  \n",
    "\n",
    "for n in components:\n",
    "    pca = PCA(n_components=n)\n",
    "    pca.fit(features_train)\n",
    "    explained_variance.append(sum(pca.explained_variance_ratio_))\n",
    "\n",
    "plt.plot(components, explained_variance)\n",
    "plt.xlabel('Number of PCA Components')\n",
    "plt.ylabel('Explained Variance')\n",
    "plt.title('PCA Explained Variance vs. Number of Components')"
   ]
  },
  {
   "cell_type": "code",
   "execution_count": null,
   "id": "ef2854c1-2910-41c7-b883-02f89ad8a66e",
   "metadata": {},
   "outputs": [],
   "source": [
    "# FA\n",
    "explained_variance = []\n",
    "components = range(1, 23)  \n",
    "\n",
    "for n in components:\n",
    "    fa = FactorAnalysis(n_components=n, random_state=42)\n",
    "    features_fa = fa.fit_transform(features_train)\n",
    "    explained_variance.append(np.var(features_fa, axis=0).sum())\n",
    "\n",
    "plt.plot(components, explained_variance, marker='o')\n",
    "plt.xlabel('Number of Factor Analysis Components')\n",
    "plt.ylabel('Explained Variance')\n",
    "plt.title('Factor Analysis Components vs. Explained Variance')\n",
    "plt.grid(True)"
   ]
  },
  {
   "cell_type": "markdown",
   "id": "42b3a21f-f7b9-42ae-a857-6322d59f877d",
   "metadata": {},
   "source": [
    "I decided to proceed with Factor Analysis (FA) as it effectively captures the underlying structure of the dataset. The FA results indicate that a significant amount of variance can be explained with a reasonable number of factors, which suggests that the data has a complex, multi-dimensional structure that can benefit from dimensionality reduction. By reducing the number of dimensions while retaining the most informative features, FA allows me to streamline the model, improve computational efficiency, and potentially enhance model performance. This approach also helps to mitigate the risk of overfitting by focusing on the most impactful features, thereby making the predictive model more robust and interpretable."
   ]
  },
  {
   "cell_type": "markdown",
   "id": "2e6d00fb-f2eb-4300-b8b9-38d1e61bf382",
   "metadata": {},
   "source": [
    "### Testing different models"
   ]
  },
  {
   "cell_type": "code",
   "execution_count": null,
   "id": "39fc405d-7769-4297-9add-621221457473",
   "metadata": {},
   "outputs": [],
   "source": [
    "from sklearn.ensemble import RandomForestClassifier\n",
    "from sklearn.linear_model import LogisticRegression\n",
    "from sklearn.neighbors import KNeighborsClassifier\n",
    "from sklearn.tree import DecisionTreeClassifier\n",
    "from sklearn.svm import SVC\n",
    "from sklearn.metrics import accuracy_score, precision_score, recall_score, f1_score, confusion_matrix\n",
    "import warnings\n",
    "warnings.filterwarnings('ignore')"
   ]
  },
  {
   "cell_type": "code",
   "execution_count": null,
   "id": "900a5777-1bd1-4c70-8050-41a30272df14",
   "metadata": {},
   "outputs": [],
   "source": [
    "def get_score(X_train, X_test, y_train, y_test, model):\n",
    "    \"\"\"\n",
    "    Trains the given model using the provided training data, \n",
    "    evaluates it on the test data, and prints the evaluation metrics.\n",
    "\n",
    "    Parameters:\n",
    "    X_train: Features for training\n",
    "    X_test: Features for testing\n",
    "    y_train: Target values for training\n",
    "    y_test: Target values for testing\n",
    "    model: The model to be trained and evaluated\n",
    "\n",
    "    Returns:\n",
    "    None\n",
    "    \"\"\"\n",
    "    # train model\n",
    "    model.fit(X_train, y_train)\n",
    "\n",
    "    # predicting test_data\n",
    "    y_pred = model.predict(X_test)\n",
    "    \n",
    "    # show results\n",
    "    print(f\"Model: {model.named_steps['classifier'].__class__.__name__}\")\n",
    "    print(f\"Accuracy: {accuracy_score(y_test, y_pred):.4f}\")\n",
    "    print(f\"Precision: {precision_score(y_test, y_pred):.4f}\")\n",
    "    print(f\"Recall: {recall_score(y_test, y_pred):.4f}\")\n",
    "    print(f\"F1 Score: {f1_score(y_test, y_pred):.4f}\")\n",
    "    print(f\"Confusion Matrix:\\n{confusion_matrix(y_test, y_pred)}\")\n",
    "    print(\"\\n\" + \"-\"*50 + \"\\n\")"
   ]
  },
  {
   "cell_type": "code",
   "execution_count": null,
   "id": "123b1104-2249-47fd-ab09-e57d54d43bae",
   "metadata": {},
   "outputs": [],
   "source": [
    "models = [RandomForestClassifier(),\n",
    "          LogisticRegression(),\n",
    "          KNeighborsClassifier(),\n",
    "          DecisionTreeClassifier(),\n",
    "          SVC()]\n",
    "\n",
    "for model in models:\n",
    "    pipeline = Pipeline(steps=[('scaler', StandardScaler()),\n",
    "                               ('factor_analysis', FactorAnalysis(n_components=19, random_state=42)),\n",
    "                               ('classifier', model)])\n",
    "    get_score(features_train, features_test, target_train, target_test, pipeline)"
   ]
  },
  {
   "cell_type": "markdown",
   "id": "b33c60ae-3bf7-4f61-9b2e-3defb58c1436",
   "metadata": {},
   "source": [
    "When it comes to medical questions, the most important thing is often to identify sick people, even if there are a few false positive predictions. That's why it makes sense to take a closer look at the underlying problem here. The Random Forest Classifier and Logistic Regression models have the highest recall, which is why it is worth building on these models and trying to improve them even further."
   ]
  },
  {
   "cell_type": "markdown",
   "id": "4ad09137-644f-4c1b-aeab-59d8edba4145",
   "metadata": {},
   "source": [
    "### Model interpretation\n",
    "\n",
    "#### Feature Importance in RandomForestClassifier"
   ]
  },
  {
   "cell_type": "markdown",
   "id": "35b463e3-c333-4d60-84f4-7dbe32140a5b",
   "metadata": {},
   "source": [
    "The RandomForestClassifier gives us the opportunity to determine the importance of each feature. This is based on how much each variable contributes to reducing impurity (Gini Impurity) across all trees in the forest."
   ]
  },
  {
   "cell_type": "code",
   "execution_count": null,
   "id": "0293b058-2a4f-46ad-bc68-c090bba1f726",
   "metadata": {},
   "outputs": [],
   "source": [
    "rf = RandomForestClassifier(random_state=42)\n",
    "rf.fit(features_train, target_train)\n",
    "\n",
    "importances = rf.feature_importances_\n",
    "\n",
    "feature_names = features_train.columns\n",
    "\n",
    "importance_df = pd.DataFrame({\n",
    "    'Feature': feature_names,\n",
    "    'Importance': importances\n",
    "})\n",
    "\n",
    "importance_df = importance_df.sort_values(by='Importance', ascending=False)\n",
    "\n",
    "plt.figure(figsize=(10, 8))\n",
    "sns.barplot(x='Importance', y='Feature', data=importance_df)\n",
    "plt.title('Feature Importance for RandomForestClassifier')"
   ]
  },
  {
   "cell_type": "markdown",
   "id": "2b37d72f-81c4-4c33-818e-b8aae8abdca1",
   "metadata": {},
   "source": [
    "As there is no universal threshold value for feature importance, I test different values"
   ]
  },
  {
   "cell_type": "code",
   "execution_count": null,
   "id": "0f7da39d-a103-48cf-a0fd-4edb0db16d43",
   "metadata": {},
   "outputs": [],
   "source": [
    "thresholds = np.arange(0.01, 0.03, 0.005) \n",
    "best_recall = 0\n",
    "best_threshold = 0\n",
    "\n",
    "for threshold in thresholds:\n",
    "    selected_features = features_train.columns[importances > threshold]\n",
    "    features_train_selected = features_train[selected_features]\n",
    "    features_test_selected = features_test[selected_features]\n",
    "    \n",
    "    rf.fit(features_train_selected, target_train)\n",
    "    \n",
    "    y_pred = rf.predict(features_test_selected)\n",
    "    recall = recall_score(target_test, y_pred)\n",
    "    \n",
    "    if recall > best_recall:\n",
    "        best_recall = recall\n",
    "        best_threshold = threshold\n",
    "\n",
    "print(f\"\\nBest Threshold: {best_threshold:.3f} with Recall: {best_recall:.4f}\")\n",
    "print(f\"Selected Features:\\n{importance_df[importance_df['Importance'] > best_threshold]['Feature']}\")"
   ]
  },
  {
   "cell_type": "markdown",
   "id": "95c81c19-f13e-417f-96c0-5245a9f92c98",
   "metadata": {},
   "source": [
    "#### Coefficients in Logistic Regression"
   ]
  },
  {
   "cell_type": "markdown",
   "id": "6b8fb2ca-93ba-4e18-b1d1-944fde0373aa",
   "metadata": {},
   "source": [
    "In LogisticRegression the coefficients are important because they indicate how strongly each input variable correlates with the target variable when all other variables are held constant."
   ]
  },
  {
   "cell_type": "code",
   "execution_count": null,
   "id": "dcb045d5-aeea-4c50-aad9-443b9aca3bd5",
   "metadata": {},
   "outputs": [],
   "source": [
    "lr_model = LogisticRegression(random_state=42)\n",
    "lr_model.fit(features_train, target_train)\n",
    "\n",
    "coefficients = lr_model.coef_[0]\n",
    "\n",
    "feature_names = features_train.columns\n",
    "\n",
    "coef_df = pd.DataFrame({\n",
    "    'Feature': feature_names,\n",
    "    'Coefficient': coefficients\n",
    "})\n",
    "\n",
    "coef_df = coef_df.sort_values(by='Coefficient', ascending=False)\n",
    "print(coef_df)\n",
    "plt.figure(figsize=(10, 8))\n",
    "sns.barplot(x='Coefficient', y='Feature', data=coef_df)\n",
    "plt.title('Coefficients for LogisticRegression')"
   ]
  },
  {
   "cell_type": "markdown",
   "id": "661d0270-aaf7-43bb-9cd2-226e2e18e5aa",
   "metadata": {},
   "source": [
    "As with the random forest, I also test different threshold values here"
   ]
  },
  {
   "cell_type": "code",
   "execution_count": null,
   "id": "b08d8aa7-72ae-425f-bbb8-455f4c31004c",
   "metadata": {},
   "outputs": [],
   "source": [
    "thresholds = [0.2, 0.3, 0.4, 0.5, 0.6, 0.7]\n",
    "\n",
    "for threshold in thresholds:\n",
    "    print(f\"\\nTesting threshold: ±{threshold}\")\n",
    "\n",
    "    selected_features = coef_df[\n",
    "        (coef_df['Coefficient'] >= threshold) | \n",
    "        (coef_df['Coefficient'] <= -threshold)\n",
    "    ]['Feature']\n",
    "\n",
    "    features_train_selected = features_train[selected_features]\n",
    "    features_test_selected = features_test[selected_features]\n",
    "\n",
    "    lr_model.fit(features_train_selected, target_train)\n",
    "\n",
    "    y_pred = lr_model.predict(features_test_selected)\n",
    "    accuracy = accuracy_score(target_test, y_pred)\n",
    "    precision = precision_score(target_test, y_pred)\n",
    "    recall = recall_score(target_test, y_pred)\n",
    "    f1 = f1_score(target_test, y_pred)\n",
    "\n",
    "    print(f\"Number of selected features: {len(selected_features)}\")\n",
    "    print(f\"Accuracy: {accuracy:.4f}\")\n",
    "    print(f\"Precision: {precision:.4f}\")\n",
    "    print(f\"Recall: {recall:.4f}\")\n",
    "    print(f\"F1 Score: {f1:.4f}\")"
   ]
  },
  {
   "cell_type": "markdown",
   "id": "898657e4-512c-4ab0-af0c-9a1239551688",
   "metadata": {},
   "source": [
    "### Hyperparameter tuning with GridSearch\n",
    "\n",
    "As the further reduction of features did not lead to an improvement in recall for any of the models, I am trying a hyperparameter tuning with GridSearch\n",
    "\n",
    "#### Random Forest Classifier"
   ]
  },
  {
   "cell_type": "code",
   "execution_count": null,
   "id": "6aabd7c6-88ef-40c5-9d8f-610a19a306f7",
   "metadata": {},
   "outputs": [],
   "source": [
    "from sklearn.model_selection import GridSearchCV\n",
    "\n",
    "rf_pipeline = Pipeline(steps=[\n",
    "    ('scaler', StandardScaler()),\n",
    "    ('factor_analysis', FactorAnalysis(n_components=19, random_state=42)),\n",
    "    ('classifier', RandomForestClassifier(random_state=42))\n",
    "])\n",
    "\n",
    "rf_param_grid = {\n",
    "    'classifier__n_estimators': [50, 100, 200],\n",
    "    'classifier__max_depth': [None, 10, 20, 30],\n",
    "    'classifier__min_samples_split': [2, 5, 10],\n",
    "    'classifier__min_samples_leaf': [1, 2, 4]\n",
    "}\n",
    "\n",
    "rf_grid_search = GridSearchCV(rf_pipeline, \n",
    "                              rf_param_grid, \n",
    "                              scoring='recall', \n",
    "                              cv=5, \n",
    "                              n_jobs=-1)\n",
    "\n",
    "rf_grid_search.fit(features_train, target_train)\n",
    "\n",
    "print(f\"Best parameters for RandomForest: {rf_grid_search.best_params_}\")\n",
    "print(f\"Best recall score for RandomForest: {rf_grid_search.best_score_:.4f}\")\n",
    "\n",
    "best_rf_model = rf_grid_search.best_estimator_\n",
    "get_score(features_train, features_test, target_train, target_test, best_rf_model)"
   ]
  },
  {
   "cell_type": "markdown",
   "id": "432c32c6-3e9e-471c-bdc4-4d5ec5fe5dd3",
   "metadata": {},
   "source": [
    "#### Logistic Regression"
   ]
  },
  {
   "cell_type": "code",
   "execution_count": null,
   "id": "d57eda2a-0b84-42e9-b38c-2393969f2608",
   "metadata": {},
   "outputs": [],
   "source": [
    "lr_pipeline = Pipeline(steps=[\n",
    "    ('scaler', StandardScaler()),\n",
    "    ('factor_analysis', FactorAnalysis(n_components=19, random_state=42)),\n",
    "    ('classifier', LogisticRegression(random_state=42, solver='liblinear'))\n",
    "])\n",
    "\n",
    "lr_param_grid = {\n",
    "    'classifier__C': [0.001, 0.01, 0.1, 1, 10, 100],\n",
    "    'classifier__penalty': ['l1', 'l2']\n",
    "}\n",
    "\n",
    "lr_grid_search = GridSearchCV(lr_pipeline, \n",
    "                              lr_param_grid, \n",
    "                              scoring='recall', \n",
    "                              cv=5, \n",
    "                              n_jobs=-1)\n",
    "lr_grid_search.fit(features_train, target_train)\n",
    "\n",
    "print(f\"Best parameters for LogisticRegression: {lr_grid_search.best_params_}\")\n",
    "print(f\"Best recall score for LogisticRegression: {lr_grid_search.best_score_:.4f}\")\n",
    "\n",
    "best_lr_model = lr_grid_search.best_estimator_\n",
    "get_score(features_train, features_test, target_train, target_test, best_lr_model)"
   ]
  },
  {
   "cell_type": "markdown",
   "id": "2a787934-5b31-4c6b-8b87-23ce5de7d3ee",
   "metadata": {},
   "source": [
    "### Ensemble-Modell with Voting Classifier\n",
    "\n",
    "The results of the GridSearch show that although we identified the best parameters for both models, the recall was not significantly improved. I therefore try to combine the predictions of the two models in order to benefit from the strengths of both."
   ]
  },
  {
   "cell_type": "code",
   "execution_count": null,
   "id": "82e7c388-3b2a-484c-a629-73ba19397378",
   "metadata": {},
   "outputs": [],
   "source": [
    "from sklearn.ensemble import VotingClassifier\n",
    "\n",
    "logistic_regression = LogisticRegression(C=0.01, \n",
    "                                         penalty='l2', \n",
    "                                         random_state=42)\n",
    "random_forest = RandomForestClassifier(n_estimators=50, \n",
    "                                       max_depth=None, \n",
    "                                       min_samples_leaf=4,\n",
    "                                       min_samples_split=2, \n",
    "                                       random_state=42)\n",
    "\n",
    "voting_clf = VotingClassifier(estimators=[('lr', logistic_regression), \n",
    "                                          ('rf', random_forest)],\n",
    "                              voting='soft')\n",
    "\n",
    "ensemble_pipeline = Pipeline(steps=[('scaler', StandardScaler()),\n",
    "                                    ('factor_analysis', FactorAnalysis(n_components=19, random_state=42)), \n",
    "                                    ('classifier', voting_clf)])\n",
    "\n",
    "get_score(features_train, features_test, target_train, target_test, ensemble_pipeline)"
   ]
  },
  {
   "cell_type": "markdown",
   "id": "60844f7f-4dec-4f83-8fe3-750dc26bbc76",
   "metadata": {},
   "source": [
    "The VotingClassifier delivered similar results to the best individual models, particularly in terms of recall and F1 score."
   ]
  },
  {
   "cell_type": "markdown",
   "id": "f1256375-fad5-4eb1-a3e6-d944d02ec37b",
   "metadata": {},
   "source": [
    "## Summary\n",
    "\n",
    "The aim of the project was the prediction of heart disease based on the given patient data. The Exploratory Data Analysis (EDA) revealed important insights into the distribution and correlations of the data. Categorical variables were converted into numerical values by one-hot encoding. Numerical features were normalised using the standard scaler. The dimensions of the features were reduced by applying factor analysis. Initially, the following models were tested: Random Forest Classifier, Logistic Regression, K-Nearest Neighbours, Decision Tree Classifier and Support Vector Classifier (SVC). The models were evaluated on the basis of accuracy, precision, recall and F1 score. Random Forest Classifier and Logistic Regression achieved the best results in terms of recall. Grid Search was used to find the best hyperparameters for Logistic Regression and Random Forest Classifier.\n",
    "\n",
    "Best parameters:\n",
    "\n",
    "Logistic Regression: C=0.01, penalty=‘l2’  \n",
    "Random Forest: max_depth=None, min_samples_leaf=4, min_samples_split=2, n_estimators=50\n",
    "\n",
    "Features were selected based on importance (random forest) and coefficients (logistic regression). Thresholds were tested to optimise feature selection but did not significantly improve recall and a voting classifier was created combining the best models to improve prediction performance.\n",
    "\n",
    "Results:\n",
    "Accuracy: 0.8525  \n",
    "Precision: 0.8710  \n",
    "Recall: 0.8438  \n",
    "F1 Score: 0.8571  \n",
    "\n",
    "The best single model based on recall was the Random Forest Classifier. The voting classifier offers a robust combination of the best models, but without a significant improvement in recall compared to the best single model. The Random Forest Classifier should be used as the main model for the prediction of heart disease, especially due to its high recall rate. Further refinement of the models, additional feature engineering or the collection of additional data could further improve the model. "
   ]
  }
 ],
 "metadata": {
  "kernelspec": {
   "display_name": "Python 3 (ipykernel)",
   "language": "python",
   "name": "python3"
  },
  "language_info": {
   "codemirror_mode": {
    "name": "ipython",
    "version": 3
   },
   "file_extension": ".py",
   "mimetype": "text/x-python",
   "name": "python",
   "nbconvert_exporter": "python",
   "pygments_lexer": "ipython3",
   "version": "3.12.4"
  }
 },
 "nbformat": 4,
 "nbformat_minor": 5
}
